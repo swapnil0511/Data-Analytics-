{
 "cells": [
  {
   "cell_type": "markdown",
   "id": "826ae731",
   "metadata": {},
   "source": [
    "## *Forest Fire Prediction using OOP*"
   ]
  },
  {
   "cell_type": "code",
   "execution_count": 4,
   "id": "e123234c",
   "metadata": {},
   "outputs": [
    {
     "name": "stdout",
     "output_type": "stream",
     "text": [
      "Enter Temperature: 20\n",
      "Enter wind speed: 4\n",
      "If Humidity in atmosphere enter Yes[1] or No[0]: 1\n",
      "There are no chances of forest fire\n"
     ]
    }
   ],
   "source": [
    "#Creating Class Forest_fire\n",
    "\n",
    "class Forest_fire():\n",
    "    \n",
    "    temp = int(input(\"Enter Temperature: \"))                                   #Assume range from 2 to 40 degree celcius \n",
    "    wind_speed = int(input(\"Enter wind speed: \"))                              #Asssume range form 1 to 10 KMPH\n",
    "    humidity = int(input(\"If Humidity in atmosphere enter Yes[1] or No[0]: \")) #Enter 1 for YES and 0 for NO\n",
    "    \n",
    "    \n",
    "    def predict(self):\n",
    "        if self.temp >=30 and self.wind_speed>=5:    \n",
    "            if self.humidity==0:\n",
    "                print(\"There are maximum chances of forest fire \")\n",
    "            else:\n",
    "                print(\"There are some chances of forest fire\")\n",
    "        else:\n",
    "            print(\"There are no chances of forest fire\")\n",
    "                \n",
    "chance = Forest_fire()\n",
    "chance.predict()           "
   ]
  },
  {
   "cell_type": "code",
   "execution_count": 9,
   "id": "20a5a752",
   "metadata": {},
   "outputs": [
    {
     "name": "stdout",
     "output_type": "stream",
     "text": [
      "There are some chances of  forest fire\n"
     ]
    }
   ],
   "source": [
    "\n",
    "class Forest_type():\n",
    "    def fire_chance(self,catagory):\n",
    "        self.catagory = catagory\n",
    "        if catagory ==\"Rainforest\":\n",
    "            print(\"There are minimal chances of forest fire\")\n",
    "        elif catagory ==\"Woodland\":\n",
    "            print(\"THere are maximum chances of forest fire \")\n",
    "        else:\n",
    "            print(\"There are some chances of  forest fire\")\n",
    "\n",
    "f1= Forest_type()\n",
    "f1.fire_chance(\"Subtropical\")\n",
    "            "
   ]
  }
 ],
 "metadata": {
  "kernelspec": {
   "display_name": "Python 3",
   "language": "python",
   "name": "python3"
  },
  "language_info": {
   "codemirror_mode": {
    "name": "ipython",
    "version": 3
   },
   "file_extension": ".py",
   "mimetype": "text/x-python",
   "name": "python",
   "nbconvert_exporter": "python",
   "pygments_lexer": "ipython3",
   "version": "3.8.8"
  }
 },
 "nbformat": 4,
 "nbformat_minor": 5
}
